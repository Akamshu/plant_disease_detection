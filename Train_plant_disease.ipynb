{
 "cells": [
  {
   "cell_type": "code",
   "execution_count": 1,
   "id": "afa3bfa3-6c13-4667-aae7-be19a8841c18",
   "metadata": {},
   "outputs": [],
   "source": [
    "    import tensorflow as tf\n",
    "    import matplotlib.pyplot as plt\n",
    "    import pandas as pd\n",
    "    import seaborn as sns"
   ]
  },
  {
   "cell_type": "code",
   "execution_count": 3,
   "id": "100fc1e6-e0f3-463a-871a-34a7c1514cbc",
   "metadata": {},
   "outputs": [
    {
     "name": "stdout",
     "output_type": "stream",
     "text": [
      "Found 70295 files belonging to 38 classes.\n"
     ]
    }
   ],
   "source": [
    "## Data Preprocessing\n",
    "## Training Image preprocessing\n",
    "training_set = tf.keras.utils.image_dataset_from_directory(\n",
    "    'train',\n",
    "    labels=\"inferred\",\n",
    "    label_mode=\"categorical\",\n",
    "    class_names=None,\n",
    "    color_mode=\"rgb\",\n",
    "    batch_size=32,\n",
    "    image_size=(128, 128),\n",
    "    shuffle=True,\n",
    "    seed=None,\n",
    "    validation_split=None,\n",
    "    subset=None,\n",
    "    interpolation=\"bilinear\",\n",
    "    follow_links=False,\n",
    "    crop_to_aspect_ratio=False,\n",
    "    pad_to_aspect_ratio=False,\n",
    "    data_format=None,\n",
    "    verbose=True,\n",
    ")\n"
   ]
  },
  {
   "cell_type": "code",
   "execution_count": 4,
   "id": "529f43c3-afcc-4797-ad74-1cd9de0452e5",
   "metadata": {},
   "outputs": [
    {
     "name": "stdout",
     "output_type": "stream",
     "text": [
      "Found 17572 files belonging to 38 classes.\n"
     ]
    }
   ],
   "source": [
    "## Validation Preprocessing\n",
    "\n",
    "validation_set = tf.keras.utils.image_dataset_from_directory(\n",
    "    'valid',\n",
    "    labels=\"inferred\",\n",
    "    label_mode=\"categorical\",\n",
    "    class_names=None,\n",
    "    color_mode=\"rgb\",\n",
    "    batch_size=32,\n",
    "    image_size=(128, 128),\n",
    "    shuffle=True,\n",
    "    seed=None,\n",
    "    validation_split=None,\n",
    "    subset=None,\n",
    "    interpolation=\"bilinear\",\n",
    "    follow_links=False,\n",
    "    crop_to_aspect_ratio=False,\n",
    "    pad_to_aspect_ratio=False,\n",
    "    data_format=None,\n",
    "    verbose=True,\n",
    ")\n"
   ]
  },
  {
   "cell_type": "code",
   "execution_count": 5,
   "id": "a210af89-c57d-4dc9-8226-07b7fefddb26",
   "metadata": {},
   "outputs": [
    {
     "data": {
      "text/plain": [
       "<_PrefetchDataset element_spec=(TensorSpec(shape=(None, 128, 128, 3), dtype=tf.float32, name=None), TensorSpec(shape=(None, 38), dtype=tf.float32, name=None))>"
      ]
     },
     "execution_count": 5,
     "metadata": {},
     "output_type": "execute_result"
    }
   ],
   "source": [
    "training_set"
   ]
  },
  {
   "cell_type": "code",
   "execution_count": 6,
   "id": "e3c8a0b2-5893-4ec9-9f01-f8d5065dcf85",
   "metadata": {},
   "outputs": [
    {
     "name": "stdout",
     "output_type": "stream",
     "text": [
      "tf.Tensor(\n",
      "[[[[ 26.    38.5   17.25]\n",
      "   [ 36.    48.5   25.25]\n",
      "   [ 59.75  74.75  47.5 ]\n",
      "   ...\n",
      "   [ 86.25 109.25  63.25]\n",
      "   [ 83.25 106.25  60.25]\n",
      "   [ 76.25  99.25  53.25]]\n",
      "\n",
      "  [[ 30.5   47.5   19.5 ]\n",
      "   [ 57.5   74.5   44.75]\n",
      "   [ 89.25 109.    74.  ]\n",
      "   ...\n",
      "   [ 86.   110.    62.  ]\n",
      "   [ 85.   108.    62.  ]\n",
      "   [ 83.5  106.5   60.5 ]]\n",
      "\n",
      "  [[ 61.    85.5   46.5 ]\n",
      "   [ 86.   111.25  70.5 ]\n",
      "   [100.5  127.5   84.  ]\n",
      "   ...\n",
      "   [ 82.25 108.25  60.25]\n",
      "   [ 83.5  109.5   61.5 ]\n",
      "   [ 85.75 111.75  64.75]]\n",
      "\n",
      "  ...\n",
      "\n",
      "  [[132.5  167.5  101.5 ]\n",
      "   [137.75 172.75 106.75]\n",
      "   [141.5  176.5  110.5 ]\n",
      "   ...\n",
      "   [ 20.75  35.25   9.  ]\n",
      "   [ 12.5   25.     9.75]\n",
      "   [ 14.    25.25  17.25]]\n",
      "\n",
      "  [[129.75 164.75  98.75]\n",
      "   [135.75 170.75 104.75]\n",
      "   [140.25 175.25 107.25]\n",
      "   ...\n",
      "   [ 20.    33.75  11.  ]\n",
      "   [ 15.25  28.25  10.  ]\n",
      "   [ 15.    26.    10.5 ]]\n",
      "\n",
      "  [[128.25 163.25  97.25]\n",
      "   [131.   166.    98.  ]\n",
      "   [136.25 171.25 103.25]\n",
      "   ...\n",
      "   [ 16.    29.    10.  ]\n",
      "   [ 15.5   27.5    7.5 ]\n",
      "   [ 12.5   24.5    4.  ]]]\n",
      "\n",
      "\n",
      " [[[184.5  174.5  172.5 ]\n",
      "   [184.75 174.75 172.75]\n",
      "   [189.   179.   177.  ]\n",
      "   ...\n",
      "   [148.   134.   133.  ]\n",
      "   [150.75 136.75 135.75]\n",
      "   [149.5  135.5  134.5 ]]\n",
      "\n",
      "  [[186.5  176.5  174.5 ]\n",
      "   [180.25 170.25 168.25]\n",
      "   [183.75 173.75 171.75]\n",
      "   ...\n",
      "   [159.   145.   144.  ]\n",
      "   [157.25 143.25 142.25]\n",
      "   [143.5  129.5  128.5 ]]\n",
      "\n",
      "  [[189.5  179.5  177.5 ]\n",
      "   [189.75 179.75 177.75]\n",
      "   [192.5  182.5  180.5 ]\n",
      "   ...\n",
      "   [147.25 133.25 132.25]\n",
      "   [153.   139.   138.  ]\n",
      "   [167.25 153.25 152.25]]\n",
      "\n",
      "  ...\n",
      "\n",
      "  [[165.5  154.5  160.5 ]\n",
      "   [171.75 160.75 166.75]\n",
      "   [172.   161.   167.  ]\n",
      "   ...\n",
      "   [137.5  123.5  123.5 ]\n",
      "   [137.25 123.25 123.25]\n",
      "   [137.75 123.75 123.75]]\n",
      "\n",
      "  [[167.   156.   162.  ]\n",
      "   [160.5  149.5  155.5 ]\n",
      "   [169.5  158.5  164.5 ]\n",
      "   ...\n",
      "   [141.75 127.75 127.75]\n",
      "   [143.   129.   129.  ]\n",
      "   [141.75 127.75 127.75]]\n",
      "\n",
      "  [[156.   145.   151.  ]\n",
      "   [161.5  150.5  156.5 ]\n",
      "   [163.75 152.75 158.75]\n",
      "   ...\n",
      "   [132.5  118.5  118.5 ]\n",
      "   [138.75 124.75 124.75]\n",
      "   [139.   125.   125.  ]]]\n",
      "\n",
      "\n",
      " [[[174.75 190.25 175.75]\n",
      "   [208.   224.   211.  ]\n",
      "   [212.25 228.25 218.25]\n",
      "   ...\n",
      "   [ 84.   121.    78.5 ]\n",
      "   [ 54.75  90.75  53.75]\n",
      "   [ 48.5   83.5   51.25]]\n",
      "\n",
      "  [[198.75 215.75 199.75]\n",
      "   [217.   233.   220.  ]\n",
      "   [212.   228.   218.  ]\n",
      "   ...\n",
      "   [ 76.25 113.25  70.25]\n",
      "   [ 65.   101.    64.  ]\n",
      "   [ 48.25  83.25  50.25]]\n",
      "\n",
      "  [[218.   235.   219.  ]\n",
      "   [196.   212.   199.  ]\n",
      "   [210.   224.5  216.  ]\n",
      "   ...\n",
      "   [ 80.75 118.    73.75]\n",
      "   [ 61.25  97.5   59.25]\n",
      "   [ 60.5   95.75  62.  ]]\n",
      "\n",
      "  ...\n",
      "\n",
      "  [[101.75 132.5   54.5 ]\n",
      "   [ 83.5  115.5   40.5 ]\n",
      "   [ 74.25 109.75  39.  ]\n",
      "   ...\n",
      "   [126.75 165.75 100.75]\n",
      "   [ 99.   138.    71.  ]\n",
      "   [104.25 143.25  76.25]]\n",
      "\n",
      "  [[120.75 148.    71.  ]\n",
      "   [ 83.   113.    38.75]\n",
      "   [ 79.25 113.25  43.  ]\n",
      "   ...\n",
      "   [129.75 168.75 103.75]\n",
      "   [100.5  139.5   72.5 ]\n",
      "   [105.75 144.75  77.75]]\n",
      "\n",
      "  [[111.5  138.5   61.5 ]\n",
      "   [ 92.   121.    47.  ]\n",
      "   [ 84.5  118.    48.  ]\n",
      "   ...\n",
      "   [140.   179.   114.  ]\n",
      "   [101.75 140.75  73.75]\n",
      "   [ 99.75 138.75  71.75]]]\n",
      "\n",
      "\n",
      " ...\n",
      "\n",
      "\n",
      " [[[179.5  170.5  163.5 ]\n",
      "   [174.5  165.5  158.5 ]\n",
      "   [174.   165.   158.  ]\n",
      "   ...\n",
      "   [169.   152.   144.  ]\n",
      "   [160.   143.   135.  ]\n",
      "   [157.25 140.25 132.25]]\n",
      "\n",
      "  [[181.75 172.75 165.75]\n",
      "   [183.75 174.75 167.75]\n",
      "   [182.25 173.25 166.25]\n",
      "   ...\n",
      "   [151.75 134.75 126.75]\n",
      "   [152.   135.   127.  ]\n",
      "   [163.75 146.75 138.75]]\n",
      "\n",
      "  [[178.75 169.75 162.75]\n",
      "   [177.5  168.5  161.5 ]\n",
      "   [180.   171.   164.  ]\n",
      "   ...\n",
      "   [175.25 158.25 150.25]\n",
      "   [165.5  148.5  140.5 ]\n",
      "   [163.25 146.25 138.25]]\n",
      "\n",
      "  ...\n",
      "\n",
      "  [[177.   167.   157.  ]\n",
      "   [180.25 170.25 160.25]\n",
      "   [182.25 172.25 162.25]\n",
      "   ...\n",
      "   [153.25 134.25 119.25]\n",
      "   [162.75 143.75 128.75]\n",
      "   [169.5  150.5  135.5 ]]\n",
      "\n",
      "  [[185.75 175.75 165.75]\n",
      "   [173.   163.   153.  ]\n",
      "   [174.75 164.75 154.75]\n",
      "   ...\n",
      "   [181.5  162.5  147.5 ]\n",
      "   [171.25 152.25 137.25]\n",
      "   [159.75 140.75 125.75]]\n",
      "\n",
      "  [[170.5  160.5  150.5 ]\n",
      "   [184.25 174.25 164.25]\n",
      "   [182.5  172.5  162.5 ]\n",
      "   ...\n",
      "   [161.5  142.5  127.5 ]\n",
      "   [176.75 157.75 142.75]\n",
      "   [172.5  153.5  138.5 ]]]\n",
      "\n",
      "\n",
      " [[[144.   136.   147.  ]\n",
      "   [146.25 138.25 149.25]\n",
      "   [141.   133.   144.  ]\n",
      "   ...\n",
      "   [190.   188.   199.  ]\n",
      "   [190.5  188.5  199.5 ]\n",
      "   [192.   190.   201.  ]]\n",
      "\n",
      "  [[138.25 130.25 141.25]\n",
      "   [140.75 132.75 143.75]\n",
      "   [140.   132.   143.  ]\n",
      "   ...\n",
      "   [190.25 188.25 199.25]\n",
      "   [191.   189.   200.  ]\n",
      "   [192.75 190.75 201.75]]\n",
      "\n",
      "  [[135.75 127.75 138.75]\n",
      "   [136.75 128.75 139.75]\n",
      "   [139.5  131.5  142.5 ]\n",
      "   ...\n",
      "   [191.   189.   200.  ]\n",
      "   [191.5  189.5  200.5 ]\n",
      "   [193.5  191.5  202.5 ]]\n",
      "\n",
      "  ...\n",
      "\n",
      "  [[ 58.5   78.75  39.75]\n",
      "   [ 58.25  80.75  37.5 ]\n",
      "   [ 55.5   80.75  33.5 ]\n",
      "   ...\n",
      "   [123.   115.   128.  ]\n",
      "   [122.   114.   127.  ]\n",
      "   [142.25 134.25 147.25]]\n",
      "\n",
      "  [[ 51.75  77.75  28.25]\n",
      "   [ 53.75  80.    31.5 ]\n",
      "   [ 59.75  85.5   40.75]\n",
      "   ...\n",
      "   [157.5  149.5  162.5 ]\n",
      "   [124.75 116.75 129.75]\n",
      "   [135.25 127.25 140.25]]\n",
      "\n",
      "  [[ 44.    71.    17.  ]\n",
      "   [ 55.75  82.25  32.75]\n",
      "   [ 52.5   77.75  36.25]\n",
      "   ...\n",
      "   [136.25 128.25 141.25]\n",
      "   [140.25 132.25 145.25]\n",
      "   [137.25 129.25 142.25]]]\n",
      "\n",
      "\n",
      " [[[ 83.    79.    84.  ]\n",
      "   [ 87.5   83.5   88.5 ]\n",
      "   [ 85.75  81.75  86.75]\n",
      "   ...\n",
      "   [ 88.    78.75  81.5 ]\n",
      "   [ 77.25  73.75  63.75]\n",
      "   [ 44.75  45.25  28.75]]\n",
      "\n",
      "  [[165.   160.   166.  ]\n",
      "   [175.75 170.75 176.75]\n",
      "   [168.75 163.75 169.75]\n",
      "   ...\n",
      "   [162.25 155.5  148.  ]\n",
      "   [ 79.5   79.25  57.  ]\n",
      "   [ 48.    51.25  19.75]]\n",
      "\n",
      "  [[168.5  163.5  169.5 ]\n",
      "   [168.25 163.25 169.25]\n",
      "   [172.25 167.25 173.25]\n",
      "   ...\n",
      "   [ 84.    84.25  58.75]\n",
      "   [ 48.5   54.    21.  ]\n",
      "   [ 51.    59.25  22.25]]\n",
      "\n",
      "  ...\n",
      "\n",
      "  [[ 89.5  113.5   81.5 ]\n",
      "   [ 89.75 113.75  81.75]\n",
      "   [ 91.25 115.25  83.25]\n",
      "   ...\n",
      "   [128.5  126.25  96.25]\n",
      "   [109.5  111.5   79.  ]\n",
      "   [ 87.    91.25  57.5 ]]\n",
      "\n",
      "  [[ 81.75 105.75  73.75]\n",
      "   [ 83.75 107.75  75.75]\n",
      "   [ 87.5  111.5   79.5 ]\n",
      "   ...\n",
      "   [ 85.25  92.5   56.  ]\n",
      "   [ 82.75  94.25  54.75]\n",
      "   [ 79.25  92.    52.25]]\n",
      "\n",
      "  [[102.   126.    94.  ]\n",
      "   [ 98.25 122.25  90.25]\n",
      "   [ 88.25 112.25  80.25]\n",
      "   ...\n",
      "   [ 76.5   90.5   50.25]\n",
      "   [ 76.25  93.75  50.  ]\n",
      "   [ 76.5   94.5   50.  ]]]], shape=(32, 128, 128, 3), dtype=float32) (32, 128, 128, 3)\n",
      "tf.Tensor(\n",
      "[[0. 0. 0. ... 0. 0. 0.]\n",
      " [0. 0. 0. ... 0. 0. 0.]\n",
      " [0. 0. 0. ... 0. 0. 0.]\n",
      " ...\n",
      " [0. 0. 0. ... 0. 0. 0.]\n",
      " [0. 0. 0. ... 0. 0. 0.]\n",
      " [0. 0. 0. ... 0. 0. 0.]], shape=(32, 38), dtype=float32) (32, 38)\n"
     ]
    }
   ],
   "source": [
    "for x,y in training_set:\n",
    "    print(x,x.shape)\n",
    "    print(y,y.shape)\n",
    "    break"
   ]
  },
  {
   "cell_type": "code",
   "execution_count": 9,
   "id": "70125788-849b-428f-b70f-4d3fcb418f15",
   "metadata": {},
   "outputs": [],
   "source": [
    "## Building Model\n",
    "from tensorflow.keras.layers import Dense,Conv2D,MaxPool2D,Flatten\n",
    "from tensorflow.keras.models import Sequential"
   ]
  },
  {
   "cell_type": "code",
   "execution_count": 10,
   "id": "5aba3372-4fc0-4cb4-b825-2bdba3b5dc4e",
   "metadata": {},
   "outputs": [],
   "source": [
    "model = Sequential()"
   ]
  },
  {
   "cell_type": "code",
   "execution_count": 12,
   "id": "8f57fc20-9b7d-4a1d-90a1-342962136cd8",
   "metadata": {},
   "outputs": [],
   "source": [
    "model.add(Conv2D(filters=32,kernel_size=3,padding='same',activation='relu',input_shape=[128, 128,3]))\n",
    "model.add(Conv2D(filters=32,kernel_size=3,padding='same',activation='relu'))\n",
    "model.add(MaxPool2D(pool_size=2,strides=2))"
   ]
  },
  {
   "cell_type": "code",
   "execution_count": 13,
   "id": "d92245ad-0ccc-4cef-aa73-f90a208aaf4f",
   "metadata": {},
   "outputs": [],
   "source": [
    "model.add(Conv2D(filters=64, kernel_size=3, padding='same', activation='relu'))\n",
    "model.add(Conv2D(filters=64, kernel_size=3, padding='same',activation='relu'))\n",
    "model.add(MaxPool2D(pool_size=2,strides=2))"
   ]
  },
  {
   "cell_type": "code",
   "execution_count": 14,
   "id": "5347cf8c-e069-49bd-a5c6-0889c54afc36",
   "metadata": {},
   "outputs": [],
   "source": [
    "model.add(Conv2D(filters=128, kernel_size=3, padding='same', activation='relu'))\n",
    "model.add(Conv2D(filters=128, kernel_size=3,padding='same', activation='relu'))\n",
    "model.add(MaxPool2D(pool_size=2,strides=2))"
   ]
  },
  {
   "cell_type": "code",
   "execution_count": 15,
   "id": "8277563b-0ef4-4c2f-9d9d-c3d290cbdf58",
   "metadata": {},
   "outputs": [],
   "source": [
    "model.add(Conv2D(filters=256, kernel_size=3, padding='same', activation='relu'))\n",
    "model.add(Conv2D(filters=256, kernel_size=3,padding='same', activation='relu'))\n",
    "model.add(MaxPool2D(pool_size=2,strides=2))"
   ]
  },
  {
   "cell_type": "code",
   "execution_count": 16,
   "id": "ff5bf17d-f16c-4e44-94eb-9dd258cb980f",
   "metadata": {},
   "outputs": [],
   "source": [
    "model.add(Flatten())"
   ]
  },
  {
   "cell_type": "code",
   "execution_count": 17,
   "id": "f65e10f5-16cb-4d5b-80bd-a6e1f1aab626",
   "metadata": {},
   "outputs": [],
   "source": [
    "model.add(Dense(units=1500,activation='relu'))"
   ]
  },
  {
   "cell_type": "code",
   "execution_count": 18,
   "id": "cb8f2f54-86c9-4dfd-adb2-30a453439cc6",
   "metadata": {},
   "outputs": [],
   "source": [
    "##Output Layer\n",
    "model.add(Dense(units=38,activation='softmax'))"
   ]
  },
  {
   "cell_type": "code",
   "execution_count": 19,
   "id": "120dfb8c-4601-468f-a66d-6beb7c017cd7",
   "metadata": {},
   "outputs": [],
   "source": [
    "## Compiling Model\n",
    "model.compile(optimizer=tf.keras.optimizers.Adam(\n",
    "    learning_rate=0.0001),loss='categorical_crossentropy',metrics=['accuracy'])"
   ]
  },
  {
   "cell_type": "code",
   "execution_count": 20,
   "id": "92e3eac5-b4d0-46e0-abdd-bc0a4afd0763",
   "metadata": {},
   "outputs": [
    {
     "data": {
      "text/html": [
       "<pre style=\"white-space:pre;overflow-x:auto;line-height:normal;font-family:Menlo,'DejaVu Sans Mono',consolas,'Courier New',monospace\"><span style=\"font-weight: bold\">Model: \"sequential_1\"</span>\n",
       "</pre>\n"
      ],
      "text/plain": [
       "\u001b[1mModel: \"sequential_1\"\u001b[0m\n"
      ]
     },
     "metadata": {},
     "output_type": "display_data"
    },
    {
     "data": {
      "text/html": [
       "<pre style=\"white-space:pre;overflow-x:auto;line-height:normal;font-family:Menlo,'DejaVu Sans Mono',consolas,'Courier New',monospace\">┏━━━━━━━━━━━━━━━━━━━━━━━━━━━━━━━━━━━━━━┳━━━━━━━━━━━━━━━━━━━━━━━━━━━━━┳━━━━━━━━━━━━━━━━━┓\n",
       "┃<span style=\"font-weight: bold\"> Layer (type)                         </span>┃<span style=\"font-weight: bold\"> Output Shape                </span>┃<span style=\"font-weight: bold\">         Param # </span>┃\n",
       "┡━━━━━━━━━━━━━━━━━━━━━━━━━━━━━━━━━━━━━━╇━━━━━━━━━━━━━━━━━━━━━━━━━━━━━╇━━━━━━━━━━━━━━━━━┩\n",
       "│ conv2d (<span style=\"color: #0087ff; text-decoration-color: #0087ff\">Conv2D</span>)                      │ (<span style=\"color: #00d7ff; text-decoration-color: #00d7ff\">None</span>, <span style=\"color: #00af00; text-decoration-color: #00af00\">128</span>, <span style=\"color: #00af00; text-decoration-color: #00af00\">128</span>, <span style=\"color: #00af00; text-decoration-color: #00af00\">32</span>)        │             <span style=\"color: #00af00; text-decoration-color: #00af00\">896</span> │\n",
       "├──────────────────────────────────────┼─────────────────────────────┼─────────────────┤\n",
       "│ conv2d_1 (<span style=\"color: #0087ff; text-decoration-color: #0087ff\">Conv2D</span>)                    │ (<span style=\"color: #00d7ff; text-decoration-color: #00d7ff\">None</span>, <span style=\"color: #00af00; text-decoration-color: #00af00\">126</span>, <span style=\"color: #00af00; text-decoration-color: #00af00\">126</span>, <span style=\"color: #00af00; text-decoration-color: #00af00\">32</span>)        │           <span style=\"color: #00af00; text-decoration-color: #00af00\">9,248</span> │\n",
       "├──────────────────────────────────────┼─────────────────────────────┼─────────────────┤\n",
       "│ max_pooling2d (<span style=\"color: #0087ff; text-decoration-color: #0087ff\">MaxPooling2D</span>)         │ (<span style=\"color: #00d7ff; text-decoration-color: #00d7ff\">None</span>, <span style=\"color: #00af00; text-decoration-color: #00af00\">63</span>, <span style=\"color: #00af00; text-decoration-color: #00af00\">63</span>, <span style=\"color: #00af00; text-decoration-color: #00af00\">32</span>)          │               <span style=\"color: #00af00; text-decoration-color: #00af00\">0</span> │\n",
       "├──────────────────────────────────────┼─────────────────────────────┼─────────────────┤\n",
       "│ conv2d_2 (<span style=\"color: #0087ff; text-decoration-color: #0087ff\">Conv2D</span>)                    │ (<span style=\"color: #00d7ff; text-decoration-color: #00d7ff\">None</span>, <span style=\"color: #00af00; text-decoration-color: #00af00\">63</span>, <span style=\"color: #00af00; text-decoration-color: #00af00\">63</span>, <span style=\"color: #00af00; text-decoration-color: #00af00\">32</span>)          │           <span style=\"color: #00af00; text-decoration-color: #00af00\">9,248</span> │\n",
       "├──────────────────────────────────────┼─────────────────────────────┼─────────────────┤\n",
       "│ conv2d_3 (<span style=\"color: #0087ff; text-decoration-color: #0087ff\">Conv2D</span>)                    │ (<span style=\"color: #00d7ff; text-decoration-color: #00d7ff\">None</span>, <span style=\"color: #00af00; text-decoration-color: #00af00\">63</span>, <span style=\"color: #00af00; text-decoration-color: #00af00\">63</span>, <span style=\"color: #00af00; text-decoration-color: #00af00\">32</span>)          │           <span style=\"color: #00af00; text-decoration-color: #00af00\">9,248</span> │\n",
       "├──────────────────────────────────────┼─────────────────────────────┼─────────────────┤\n",
       "│ max_pooling2d_1 (<span style=\"color: #0087ff; text-decoration-color: #0087ff\">MaxPooling2D</span>)       │ (<span style=\"color: #00d7ff; text-decoration-color: #00d7ff\">None</span>, <span style=\"color: #00af00; text-decoration-color: #00af00\">31</span>, <span style=\"color: #00af00; text-decoration-color: #00af00\">31</span>, <span style=\"color: #00af00; text-decoration-color: #00af00\">32</span>)          │               <span style=\"color: #00af00; text-decoration-color: #00af00\">0</span> │\n",
       "├──────────────────────────────────────┼─────────────────────────────┼─────────────────┤\n",
       "│ conv2d_4 (<span style=\"color: #0087ff; text-decoration-color: #0087ff\">Conv2D</span>)                    │ (<span style=\"color: #00d7ff; text-decoration-color: #00d7ff\">None</span>, <span style=\"color: #00af00; text-decoration-color: #00af00\">31</span>, <span style=\"color: #00af00; text-decoration-color: #00af00\">31</span>, <span style=\"color: #00af00; text-decoration-color: #00af00\">64</span>)          │          <span style=\"color: #00af00; text-decoration-color: #00af00\">18,496</span> │\n",
       "├──────────────────────────────────────┼─────────────────────────────┼─────────────────┤\n",
       "│ conv2d_5 (<span style=\"color: #0087ff; text-decoration-color: #0087ff\">Conv2D</span>)                    │ (<span style=\"color: #00d7ff; text-decoration-color: #00d7ff\">None</span>, <span style=\"color: #00af00; text-decoration-color: #00af00\">31</span>, <span style=\"color: #00af00; text-decoration-color: #00af00\">31</span>, <span style=\"color: #00af00; text-decoration-color: #00af00\">64</span>)          │          <span style=\"color: #00af00; text-decoration-color: #00af00\">36,928</span> │\n",
       "├──────────────────────────────────────┼─────────────────────────────┼─────────────────┤\n",
       "│ max_pooling2d_2 (<span style=\"color: #0087ff; text-decoration-color: #0087ff\">MaxPooling2D</span>)       │ (<span style=\"color: #00d7ff; text-decoration-color: #00d7ff\">None</span>, <span style=\"color: #00af00; text-decoration-color: #00af00\">15</span>, <span style=\"color: #00af00; text-decoration-color: #00af00\">15</span>, <span style=\"color: #00af00; text-decoration-color: #00af00\">64</span>)          │               <span style=\"color: #00af00; text-decoration-color: #00af00\">0</span> │\n",
       "├──────────────────────────────────────┼─────────────────────────────┼─────────────────┤\n",
       "│ conv2d_6 (<span style=\"color: #0087ff; text-decoration-color: #0087ff\">Conv2D</span>)                    │ (<span style=\"color: #00d7ff; text-decoration-color: #00d7ff\">None</span>, <span style=\"color: #00af00; text-decoration-color: #00af00\">15</span>, <span style=\"color: #00af00; text-decoration-color: #00af00\">15</span>, <span style=\"color: #00af00; text-decoration-color: #00af00\">128</span>)         │          <span style=\"color: #00af00; text-decoration-color: #00af00\">73,856</span> │\n",
       "├──────────────────────────────────────┼─────────────────────────────┼─────────────────┤\n",
       "│ conv2d_7 (<span style=\"color: #0087ff; text-decoration-color: #0087ff\">Conv2D</span>)                    │ (<span style=\"color: #00d7ff; text-decoration-color: #00d7ff\">None</span>, <span style=\"color: #00af00; text-decoration-color: #00af00\">15</span>, <span style=\"color: #00af00; text-decoration-color: #00af00\">15</span>, <span style=\"color: #00af00; text-decoration-color: #00af00\">128</span>)         │         <span style=\"color: #00af00; text-decoration-color: #00af00\">147,584</span> │\n",
       "├──────────────────────────────────────┼─────────────────────────────┼─────────────────┤\n",
       "│ max_pooling2d_3 (<span style=\"color: #0087ff; text-decoration-color: #0087ff\">MaxPooling2D</span>)       │ (<span style=\"color: #00d7ff; text-decoration-color: #00d7ff\">None</span>, <span style=\"color: #00af00; text-decoration-color: #00af00\">7</span>, <span style=\"color: #00af00; text-decoration-color: #00af00\">7</span>, <span style=\"color: #00af00; text-decoration-color: #00af00\">128</span>)           │               <span style=\"color: #00af00; text-decoration-color: #00af00\">0</span> │\n",
       "├──────────────────────────────────────┼─────────────────────────────┼─────────────────┤\n",
       "│ conv2d_8 (<span style=\"color: #0087ff; text-decoration-color: #0087ff\">Conv2D</span>)                    │ (<span style=\"color: #00d7ff; text-decoration-color: #00d7ff\">None</span>, <span style=\"color: #00af00; text-decoration-color: #00af00\">7</span>, <span style=\"color: #00af00; text-decoration-color: #00af00\">7</span>, <span style=\"color: #00af00; text-decoration-color: #00af00\">256</span>)           │         <span style=\"color: #00af00; text-decoration-color: #00af00\">295,168</span> │\n",
       "├──────────────────────────────────────┼─────────────────────────────┼─────────────────┤\n",
       "│ conv2d_9 (<span style=\"color: #0087ff; text-decoration-color: #0087ff\">Conv2D</span>)                    │ (<span style=\"color: #00d7ff; text-decoration-color: #00d7ff\">None</span>, <span style=\"color: #00af00; text-decoration-color: #00af00\">7</span>, <span style=\"color: #00af00; text-decoration-color: #00af00\">7</span>, <span style=\"color: #00af00; text-decoration-color: #00af00\">256</span>)           │         <span style=\"color: #00af00; text-decoration-color: #00af00\">590,080</span> │\n",
       "├──────────────────────────────────────┼─────────────────────────────┼─────────────────┤\n",
       "│ max_pooling2d_4 (<span style=\"color: #0087ff; text-decoration-color: #0087ff\">MaxPooling2D</span>)       │ (<span style=\"color: #00d7ff; text-decoration-color: #00d7ff\">None</span>, <span style=\"color: #00af00; text-decoration-color: #00af00\">3</span>, <span style=\"color: #00af00; text-decoration-color: #00af00\">3</span>, <span style=\"color: #00af00; text-decoration-color: #00af00\">256</span>)           │               <span style=\"color: #00af00; text-decoration-color: #00af00\">0</span> │\n",
       "├──────────────────────────────────────┼─────────────────────────────┼─────────────────┤\n",
       "│ flatten (<span style=\"color: #0087ff; text-decoration-color: #0087ff\">Flatten</span>)                    │ (<span style=\"color: #00d7ff; text-decoration-color: #00d7ff\">None</span>, <span style=\"color: #00af00; text-decoration-color: #00af00\">2304</span>)                │               <span style=\"color: #00af00; text-decoration-color: #00af00\">0</span> │\n",
       "├──────────────────────────────────────┼─────────────────────────────┼─────────────────┤\n",
       "│ dense (<span style=\"color: #0087ff; text-decoration-color: #0087ff\">Dense</span>)                        │ (<span style=\"color: #00d7ff; text-decoration-color: #00d7ff\">None</span>, <span style=\"color: #00af00; text-decoration-color: #00af00\">1500</span>)                │       <span style=\"color: #00af00; text-decoration-color: #00af00\">3,457,500</span> │\n",
       "├──────────────────────────────────────┼─────────────────────────────┼─────────────────┤\n",
       "│ dense_1 (<span style=\"color: #0087ff; text-decoration-color: #0087ff\">Dense</span>)                      │ (<span style=\"color: #00d7ff; text-decoration-color: #00d7ff\">None</span>, <span style=\"color: #00af00; text-decoration-color: #00af00\">38</span>)                  │          <span style=\"color: #00af00; text-decoration-color: #00af00\">57,038</span> │\n",
       "└──────────────────────────────────────┴─────────────────────────────┴─────────────────┘\n",
       "</pre>\n"
      ],
      "text/plain": [
       "┏━━━━━━━━━━━━━━━━━━━━━━━━━━━━━━━━━━━━━━┳━━━━━━━━━━━━━━━━━━━━━━━━━━━━━┳━━━━━━━━━━━━━━━━━┓\n",
       "┃\u001b[1m \u001b[0m\u001b[1mLayer (type)                        \u001b[0m\u001b[1m \u001b[0m┃\u001b[1m \u001b[0m\u001b[1mOutput Shape               \u001b[0m\u001b[1m \u001b[0m┃\u001b[1m \u001b[0m\u001b[1m        Param #\u001b[0m\u001b[1m \u001b[0m┃\n",
       "┡━━━━━━━━━━━━━━━━━━━━━━━━━━━━━━━━━━━━━━╇━━━━━━━━━━━━━━━━━━━━━━━━━━━━━╇━━━━━━━━━━━━━━━━━┩\n",
       "│ conv2d (\u001b[38;5;33mConv2D\u001b[0m)                      │ (\u001b[38;5;45mNone\u001b[0m, \u001b[38;5;34m128\u001b[0m, \u001b[38;5;34m128\u001b[0m, \u001b[38;5;34m32\u001b[0m)        │             \u001b[38;5;34m896\u001b[0m │\n",
       "├──────────────────────────────────────┼─────────────────────────────┼─────────────────┤\n",
       "│ conv2d_1 (\u001b[38;5;33mConv2D\u001b[0m)                    │ (\u001b[38;5;45mNone\u001b[0m, \u001b[38;5;34m126\u001b[0m, \u001b[38;5;34m126\u001b[0m, \u001b[38;5;34m32\u001b[0m)        │           \u001b[38;5;34m9,248\u001b[0m │\n",
       "├──────────────────────────────────────┼─────────────────────────────┼─────────────────┤\n",
       "│ max_pooling2d (\u001b[38;5;33mMaxPooling2D\u001b[0m)         │ (\u001b[38;5;45mNone\u001b[0m, \u001b[38;5;34m63\u001b[0m, \u001b[38;5;34m63\u001b[0m, \u001b[38;5;34m32\u001b[0m)          │               \u001b[38;5;34m0\u001b[0m │\n",
       "├──────────────────────────────────────┼─────────────────────────────┼─────────────────┤\n",
       "│ conv2d_2 (\u001b[38;5;33mConv2D\u001b[0m)                    │ (\u001b[38;5;45mNone\u001b[0m, \u001b[38;5;34m63\u001b[0m, \u001b[38;5;34m63\u001b[0m, \u001b[38;5;34m32\u001b[0m)          │           \u001b[38;5;34m9,248\u001b[0m │\n",
       "├──────────────────────────────────────┼─────────────────────────────┼─────────────────┤\n",
       "│ conv2d_3 (\u001b[38;5;33mConv2D\u001b[0m)                    │ (\u001b[38;5;45mNone\u001b[0m, \u001b[38;5;34m63\u001b[0m, \u001b[38;5;34m63\u001b[0m, \u001b[38;5;34m32\u001b[0m)          │           \u001b[38;5;34m9,248\u001b[0m │\n",
       "├──────────────────────────────────────┼─────────────────────────────┼─────────────────┤\n",
       "│ max_pooling2d_1 (\u001b[38;5;33mMaxPooling2D\u001b[0m)       │ (\u001b[38;5;45mNone\u001b[0m, \u001b[38;5;34m31\u001b[0m, \u001b[38;5;34m31\u001b[0m, \u001b[38;5;34m32\u001b[0m)          │               \u001b[38;5;34m0\u001b[0m │\n",
       "├──────────────────────────────────────┼─────────────────────────────┼─────────────────┤\n",
       "│ conv2d_4 (\u001b[38;5;33mConv2D\u001b[0m)                    │ (\u001b[38;5;45mNone\u001b[0m, \u001b[38;5;34m31\u001b[0m, \u001b[38;5;34m31\u001b[0m, \u001b[38;5;34m64\u001b[0m)          │          \u001b[38;5;34m18,496\u001b[0m │\n",
       "├──────────────────────────────────────┼─────────────────────────────┼─────────────────┤\n",
       "│ conv2d_5 (\u001b[38;5;33mConv2D\u001b[0m)                    │ (\u001b[38;5;45mNone\u001b[0m, \u001b[38;5;34m31\u001b[0m, \u001b[38;5;34m31\u001b[0m, \u001b[38;5;34m64\u001b[0m)          │          \u001b[38;5;34m36,928\u001b[0m │\n",
       "├──────────────────────────────────────┼─────────────────────────────┼─────────────────┤\n",
       "│ max_pooling2d_2 (\u001b[38;5;33mMaxPooling2D\u001b[0m)       │ (\u001b[38;5;45mNone\u001b[0m, \u001b[38;5;34m15\u001b[0m, \u001b[38;5;34m15\u001b[0m, \u001b[38;5;34m64\u001b[0m)          │               \u001b[38;5;34m0\u001b[0m │\n",
       "├──────────────────────────────────────┼─────────────────────────────┼─────────────────┤\n",
       "│ conv2d_6 (\u001b[38;5;33mConv2D\u001b[0m)                    │ (\u001b[38;5;45mNone\u001b[0m, \u001b[38;5;34m15\u001b[0m, \u001b[38;5;34m15\u001b[0m, \u001b[38;5;34m128\u001b[0m)         │          \u001b[38;5;34m73,856\u001b[0m │\n",
       "├──────────────────────────────────────┼─────────────────────────────┼─────────────────┤\n",
       "│ conv2d_7 (\u001b[38;5;33mConv2D\u001b[0m)                    │ (\u001b[38;5;45mNone\u001b[0m, \u001b[38;5;34m15\u001b[0m, \u001b[38;5;34m15\u001b[0m, \u001b[38;5;34m128\u001b[0m)         │         \u001b[38;5;34m147,584\u001b[0m │\n",
       "├──────────────────────────────────────┼─────────────────────────────┼─────────────────┤\n",
       "│ max_pooling2d_3 (\u001b[38;5;33mMaxPooling2D\u001b[0m)       │ (\u001b[38;5;45mNone\u001b[0m, \u001b[38;5;34m7\u001b[0m, \u001b[38;5;34m7\u001b[0m, \u001b[38;5;34m128\u001b[0m)           │               \u001b[38;5;34m0\u001b[0m │\n",
       "├──────────────────────────────────────┼─────────────────────────────┼─────────────────┤\n",
       "│ conv2d_8 (\u001b[38;5;33mConv2D\u001b[0m)                    │ (\u001b[38;5;45mNone\u001b[0m, \u001b[38;5;34m7\u001b[0m, \u001b[38;5;34m7\u001b[0m, \u001b[38;5;34m256\u001b[0m)           │         \u001b[38;5;34m295,168\u001b[0m │\n",
       "├──────────────────────────────────────┼─────────────────────────────┼─────────────────┤\n",
       "│ conv2d_9 (\u001b[38;5;33mConv2D\u001b[0m)                    │ (\u001b[38;5;45mNone\u001b[0m, \u001b[38;5;34m7\u001b[0m, \u001b[38;5;34m7\u001b[0m, \u001b[38;5;34m256\u001b[0m)           │         \u001b[38;5;34m590,080\u001b[0m │\n",
       "├──────────────────────────────────────┼─────────────────────────────┼─────────────────┤\n",
       "│ max_pooling2d_4 (\u001b[38;5;33mMaxPooling2D\u001b[0m)       │ (\u001b[38;5;45mNone\u001b[0m, \u001b[38;5;34m3\u001b[0m, \u001b[38;5;34m3\u001b[0m, \u001b[38;5;34m256\u001b[0m)           │               \u001b[38;5;34m0\u001b[0m │\n",
       "├──────────────────────────────────────┼─────────────────────────────┼─────────────────┤\n",
       "│ flatten (\u001b[38;5;33mFlatten\u001b[0m)                    │ (\u001b[38;5;45mNone\u001b[0m, \u001b[38;5;34m2304\u001b[0m)                │               \u001b[38;5;34m0\u001b[0m │\n",
       "├──────────────────────────────────────┼─────────────────────────────┼─────────────────┤\n",
       "│ dense (\u001b[38;5;33mDense\u001b[0m)                        │ (\u001b[38;5;45mNone\u001b[0m, \u001b[38;5;34m1500\u001b[0m)                │       \u001b[38;5;34m3,457,500\u001b[0m │\n",
       "├──────────────────────────────────────┼─────────────────────────────┼─────────────────┤\n",
       "│ dense_1 (\u001b[38;5;33mDense\u001b[0m)                      │ (\u001b[38;5;45mNone\u001b[0m, \u001b[38;5;34m38\u001b[0m)                  │          \u001b[38;5;34m57,038\u001b[0m │\n",
       "└──────────────────────────────────────┴─────────────────────────────┴─────────────────┘\n"
      ]
     },
     "metadata": {},
     "output_type": "display_data"
    },
    {
     "data": {
      "text/html": [
       "<pre style=\"white-space:pre;overflow-x:auto;line-height:normal;font-family:Menlo,'DejaVu Sans Mono',consolas,'Courier New',monospace\"><span style=\"font-weight: bold\"> Total params: </span><span style=\"color: #00af00; text-decoration-color: #00af00\">4,705,290</span> (17.95 MB)\n",
       "</pre>\n"
      ],
      "text/plain": [
       "\u001b[1m Total params: \u001b[0m\u001b[38;5;34m4,705,290\u001b[0m (17.95 MB)\n"
      ]
     },
     "metadata": {},
     "output_type": "display_data"
    },
    {
     "data": {
      "text/html": [
       "<pre style=\"white-space:pre;overflow-x:auto;line-height:normal;font-family:Menlo,'DejaVu Sans Mono',consolas,'Courier New',monospace\"><span style=\"font-weight: bold\"> Trainable params: </span><span style=\"color: #00af00; text-decoration-color: #00af00\">4,705,290</span> (17.95 MB)\n",
       "</pre>\n"
      ],
      "text/plain": [
       "\u001b[1m Trainable params: \u001b[0m\u001b[38;5;34m4,705,290\u001b[0m (17.95 MB)\n"
      ]
     },
     "metadata": {},
     "output_type": "display_data"
    },
    {
     "data": {
      "text/html": [
       "<pre style=\"white-space:pre;overflow-x:auto;line-height:normal;font-family:Menlo,'DejaVu Sans Mono',consolas,'Courier New',monospace\"><span style=\"font-weight: bold\"> Non-trainable params: </span><span style=\"color: #00af00; text-decoration-color: #00af00\">0</span> (0.00 B)\n",
       "</pre>\n"
      ],
      "text/plain": [
       "\u001b[1m Non-trainable params: \u001b[0m\u001b[38;5;34m0\u001b[0m (0.00 B)\n"
      ]
     },
     "metadata": {},
     "output_type": "display_data"
    }
   ],
   "source": [
    "model.summary()"
   ]
  },
  {
   "cell_type": "code",
   "execution_count": 21,
   "id": "2cf19302-b016-4ed5-8acd-a463c61e0888",
   "metadata": {},
   "outputs": [
    {
     "name": "stdout",
     "output_type": "stream",
     "text": [
      "Epoch 1/10\n",
      "\u001b[1m2197/2197\u001b[0m \u001b[32m━━━━━━━━━━━━━━━━━━━━\u001b[0m\u001b[37m\u001b[0m \u001b[1m1487s\u001b[0m 672ms/step - accuracy: 0.5062 - loss: 1.7267 - val_accuracy: 0.8594 - val_loss: 0.4457\n",
      "Epoch 2/10\n",
      "\u001b[1m2197/2197\u001b[0m \u001b[32m━━━━━━━━━━━━━━━━━━━━\u001b[0m\u001b[37m\u001b[0m \u001b[1m1388s\u001b[0m 632ms/step - accuracy: 0.8718 - loss: 0.4010 - val_accuracy: 0.9140 - val_loss: 0.2693\n",
      "Epoch 3/10\n",
      "\u001b[1m2197/2197\u001b[0m \u001b[32m━━━━━━━━━━━━━━━━━━━━\u001b[0m\u001b[37m\u001b[0m \u001b[1m1397s\u001b[0m 636ms/step - accuracy: 0.9267 - loss: 0.2270 - val_accuracy: 0.9192 - val_loss: 0.2529\n",
      "Epoch 4/10\n",
      "\u001b[1m2197/2197\u001b[0m \u001b[32m━━━━━━━━━━━━━━━━━━━━\u001b[0m\u001b[37m\u001b[0m \u001b[1m1501s\u001b[0m 683ms/step - accuracy: 0.9510 - loss: 0.1513 - val_accuracy: 0.9341 - val_loss: 0.2018\n",
      "Epoch 5/10\n",
      "\u001b[1m2197/2197\u001b[0m \u001b[32m━━━━━━━━━━━━━━━━━━━━\u001b[0m\u001b[37m\u001b[0m \u001b[1m1460s\u001b[0m 665ms/step - accuracy: 0.9639 - loss: 0.1109 - val_accuracy: 0.9340 - val_loss: 0.2168\n",
      "Epoch 6/10\n",
      "\u001b[1m2197/2197\u001b[0m \u001b[32m━━━━━━━━━━━━━━━━━━━━\u001b[0m\u001b[37m\u001b[0m \u001b[1m1390s\u001b[0m 632ms/step - accuracy: 0.9702 - loss: 0.0885 - val_accuracy: 0.9282 - val_loss: 0.2408\n",
      "Epoch 7/10\n",
      "\u001b[1m2197/2197\u001b[0m \u001b[32m━━━━━━━━━━━━━━━━━━━━\u001b[0m\u001b[37m\u001b[0m \u001b[1m1386s\u001b[0m 631ms/step - accuracy: 0.9765 - loss: 0.0704 - val_accuracy: 0.9310 - val_loss: 0.2413\n",
      "Epoch 8/10\n",
      "\u001b[1m2197/2197\u001b[0m \u001b[32m━━━━━━━━━━━━━━━━━━━━\u001b[0m\u001b[37m\u001b[0m \u001b[1m1467s\u001b[0m 667ms/step - accuracy: 0.9791 - loss: 0.0642 - val_accuracy: 0.9477 - val_loss: 0.1884\n",
      "Epoch 9/10\n",
      "\u001b[1m2197/2197\u001b[0m \u001b[32m━━━━━━━━━━━━━━━━━━━━\u001b[0m\u001b[37m\u001b[0m \u001b[1m1466s\u001b[0m 667ms/step - accuracy: 0.9823 - loss: 0.0540 - val_accuracy: 0.9442 - val_loss: 0.1865\n",
      "Epoch 10/10\n",
      "\u001b[1m2197/2197\u001b[0m \u001b[32m━━━━━━━━━━━━━━━━━━━━\u001b[0m\u001b[37m\u001b[0m \u001b[1m1813s\u001b[0m 825ms/step - accuracy: 0.9845 - loss: 0.0485 - val_accuracy: 0.9444 - val_loss: 0.2020\n"
     ]
    }
   ],
   "source": [
    "### Model Training\n",
    "training_history = model.fit(x=training_set, validation_data=validation_set,epochs=10)"
   ]
  },
  {
   "cell_type": "code",
   "execution_count": 22,
   "id": "6b7fe580-4c38-40a8-9db6-c42462cac0dc",
   "metadata": {},
   "outputs": [
    {
     "name": "stdout",
     "output_type": "stream",
     "text": [
      "\u001b[1m2197/2197\u001b[0m \u001b[32m━━━━━━━━━━━━━━━━━━━━\u001b[0m\u001b[37m\u001b[0m \u001b[1m480s\u001b[0m 218ms/step - accuracy: 0.9854 - loss: 0.0418\n"
     ]
    }
   ],
   "source": [
    "## Model evaluation\n",
    "train_loss, train_acc = model.evaluate(training_set)"
   ]
  },
  {
   "cell_type": "code",
   "execution_count": 23,
   "id": "5ca9bd0e-5cb5-4c6f-a587-62c9bd14a74d",
   "metadata": {},
   "outputs": [
    {
     "name": "stdout",
     "output_type": "stream",
     "text": [
      "0.04041772335767746 0.9863005876541138\n"
     ]
    }
   ],
   "source": [
    "print(train_loss, train_acc)"
   ]
  },
  {
   "cell_type": "code",
   "execution_count": 24,
   "id": "92daa288-aca5-4d7e-95a8-8fe9add955ca",
   "metadata": {},
   "outputs": [
    {
     "name": "stdout",
     "output_type": "stream",
     "text": [
      "\u001b[1m550/550\u001b[0m \u001b[32m━━━━━━━━━━━━━━━━━━━━\u001b[0m\u001b[37m\u001b[0m \u001b[1m119s\u001b[0m 216ms/step - accuracy: 0.9455 - loss: 0.2041\n"
     ]
    }
   ],
   "source": [
    "val_loss, val_acc = model.evaluate(validation_set)"
   ]
  },
  {
   "cell_type": "code",
   "execution_count": 25,
   "id": "f7873d27-cf5a-4b27-b00e-42613735a2e7",
   "metadata": {},
   "outputs": [
    {
     "name": "stdout",
     "output_type": "stream",
     "text": [
      "0.20201146602630615 0.9444001913070679\n"
     ]
    }
   ],
   "source": [
    "print(val_loss, val_acc)"
   ]
  },
  {
   "cell_type": "code",
   "execution_count": 27,
   "id": "20bd4834-6dfa-4cbf-9f6e-3834103ef830",
   "metadata": {},
   "outputs": [],
   "source": [
    "### Saving moddel\n",
    "model.save(\"trained_model.keras\")"
   ]
  },
  {
   "cell_type": "code",
   "execution_count": 28,
   "id": "581206e8-6522-4f17-941a-4b4b6be637f6",
   "metadata": {},
   "outputs": [
    {
     "data": {
      "text/plain": [
       "{'accuracy': [0.6842023134231567,\n",
       "  0.8886407017707825,\n",
       "  0.9324276447296143,\n",
       "  0.9544917941093445,\n",
       "  0.9650330543518066,\n",
       "  0.9713777899742126,\n",
       "  0.9772530198097229,\n",
       "  0.9802546501159668,\n",
       "  0.9831282496452332,\n",
       "  0.9849206805229187],\n",
       " 'loss': [1.0518420934677124,\n",
       "  0.3437822163105011,\n",
       "  0.20723655819892883,\n",
       "  0.13951168954372406,\n",
       "  0.1064106822013855,\n",
       "  0.08379543572664261,\n",
       "  0.06824327260255814,\n",
       "  0.05968592315912247,\n",
       "  0.051720160990953445,\n",
       "  0.045882195234298706],\n",
       " 'val_accuracy': [0.8594354391098022,\n",
       "  0.9140109419822693,\n",
       "  0.9192465543746948,\n",
       "  0.9340997338294983,\n",
       "  0.9340428113937378,\n",
       "  0.9282380938529968,\n",
       "  0.9309697151184082,\n",
       "  0.9477008581161499,\n",
       "  0.9441725611686707,\n",
       "  0.9444001913070679],\n",
       " 'val_loss': [0.4457385241985321,\n",
       "  0.2693338990211487,\n",
       "  0.2529090642929077,\n",
       "  0.2018173784017563,\n",
       "  0.21678954362869263,\n",
       "  0.2407570630311966,\n",
       "  0.2413347363471985,\n",
       "  0.18837720155715942,\n",
       "  0.1864674985408783,\n",
       "  0.2020115852355957]}"
      ]
     },
     "execution_count": 28,
     "metadata": {},
     "output_type": "execute_result"
    }
   ],
   "source": [
    "training_history.history"
   ]
  },
  {
   "cell_type": "code",
   "execution_count": 29,
   "id": "83ca31da-c897-48ea-b3b1-0e7ff0b663d5",
   "metadata": {},
   "outputs": [],
   "source": [
    "##Record History in JSON\n",
    "import json\n",
    "with open(\"training_hist.json\", \"w\") as f:\n",
    "    json.dump(training_history.history, f)"
   ]
  },
  {
   "cell_type": "code",
   "execution_count": 31,
   "id": "086824c6-4ab0-4313-83a5-0bc2982a6a19",
   "metadata": {},
   "outputs": [
    {
     "data": {
      "image/png": "[encoded data removed]",
      "text/plain": [
       "<Figure size 640x480 with 1 Axes>"
      ]
     },
     "metadata": {},
     "output_type": "display_data"
    }
   ],
   "source": [
    "epochs = [i for i in range(1,11)]\n",
    "plt.plot(epochs,training_history.history['accuracy'],color='red',label='Training Accuracy')\n",
    "plt.plot(epochs,training_history.history['val_accuracy'],color='blue',label='Validation Accuracy')\n",
    "plt.xlabel(\"No. of Epochs\")\n",
    "plt.ylabel(\"Accuracy Result\")\n",
    "plt.title(\"Visualization of Accuracy Result\")\n",
    "plt.legend()\n",
    "plt.show()"
   ]
  },
  {
   "cell_type": "code",
   "execution_count": 33,
   "id": "a771ab63-bb1e-469b-adca-777ec95be779",
   "metadata": {},
   "outputs": [
    {
     "data": {
      "text/plain": [
       "['Apple___Apple_scab',\n",
       " 'Apple___Black_rot',\n",
       " 'Apple___Cedar_apple_rust',\n",
       " 'Apple___healthy',\n",
       " 'Blueberry___healthy',\n",
       " 'Cherry_(including_sour)___Powdery_mildew',\n",
       " 'Cherry_(including_sour)___healthy',\n",
       " 'Corn_(maize)___Cercospora_leaf_spot Gray_leaf_spot',\n",
       " 'Corn_(maize)___Common_rust_',\n",
       " 'Corn_(maize)___Northern_Leaf_Blight',\n",
       " 'Corn_(maize)___healthy',\n",
       " 'Grape___Black_rot',\n",
       " 'Grape___Esca_(Black_Measles)',\n",
       " 'Grape___Leaf_blight_(Isariopsis_Leaf_Spot)',\n",
       " 'Grape___healthy',\n",
       " 'Orange___Haunglongbing_(Citrus_greening)',\n",
       " 'Peach___Bacterial_spot',\n",
       " 'Peach___healthy',\n",
       " 'Pepper,_bell___Bacterial_spot',\n",
       " 'Pepper,_bell___healthy',\n",
       " 'Potato___Early_blight',\n",
       " 'Potato___Late_blight',\n",
       " 'Potato___healthy',\n",
       " 'Raspberry___healthy',\n",
       " 'Soybean___healthy',\n",
       " 'Squash___Powdery_mildew',\n",
       " 'Strawberry___Leaf_scorch',\n",
       " 'Strawberry___healthy',\n",
       " 'Tomato___Bacterial_spot',\n",
       " 'Tomato___Early_blight',\n",
       " 'Tomato___Late_blight',\n",
       " 'Tomato___Leaf_Mold',\n",
       " 'Tomato___Septoria_leaf_spot',\n",
       " 'Tomato___Spider_mites Two-spotted_spider_mite',\n",
       " 'Tomato___Target_Spot',\n",
       " 'Tomato___Tomato_Yellow_Leaf_Curl_Virus',\n",
       " 'Tomato___Tomato_mosaic_virus',\n",
       " 'Tomato___healthy']"
      ]
     },
     "execution_count": 33,
     "metadata": {},
     "output_type": "execute_result"
    }
   ],
   "source": [
    "class_name = validation_set.class_names\n",
    "class_name"
   ]
  },
  {
   "cell_type": "code",
   "execution_count": 34,
   "id": "131fac35-bbed-4cf7-a647-c7ad31248622",
   "metadata": {},
   "outputs": [
    {
     "name": "stdout",
     "output_type": "stream",
     "text": [
      "Found 17572 files belonging to 38 classes.\n"
     ]
    }
   ],
   "source": [
    "test_set =  tf.keras.utils.image_dataset_from_directory(\n",
    "    'valid',\n",
    "    labels=\"inferred\",\n",
    "    label_mode=\"categorical\",\n",
    "    class_names=None,\n",
    "    color_mode=\"rgb\",\n",
    "    batch_size=32,\n",
    "    image_size=(128, 128),\n",
    "    shuffle=False,\n",
    "    seed=None,\n",
    "    validation_split=None,\n",
    "    subset=None,\n",
    "    interpolation=\"bilinear\",\n",
    "    follow_links=False,\n",
    "    crop_to_aspect_ratio=False,\n",
    "    pad_to_aspect_ratio=False,\n",
    "    data_format=None,\n",
    "    verbose=True,\n",
    ")"
   ]
  },
  {
   "cell_type": "code",
   "execution_count": 37,
   "id": "e61f85e7-ba06-4a36-b8c9-06916709dac2",
   "metadata": {},
   "outputs": [
    {
     "name": "stdout",
     "output_type": "stream",
     "text": [
      "\u001b[1m550/550\u001b[0m \u001b[32m━━━━━━━━━━━━━━━━━━━━\u001b[0m\u001b[37m\u001b[0m \u001b[1m116s\u001b[0m 211ms/step\n"
     ]
    },
    {
     "data": {
      "text/plain": [
       "(array([[9.99999762e-01, 1.89673301e-07, 3.35916794e-10, ...,\n",
       "         7.22215697e-15, 8.88995163e-14, 7.71159463e-14],\n",
       "        [9.99999762e-01, 1.95948154e-11, 1.07715425e-13, ...,\n",
       "         3.55642664e-12, 4.81481445e-14, 2.33858207e-14],\n",
       "        [9.98712182e-01, 1.36715471e-07, 6.98332911e-08, ...,\n",
       "         3.57684192e-14, 1.54649956e-11, 2.05577622e-09],\n",
       "        ...,\n",
       "        [7.73699398e-08, 1.36919235e-11, 3.31271122e-09, ...,\n",
       "         1.55368468e-10, 4.28927796e-11, 9.99996662e-01],\n",
       "        [1.96041628e-06, 2.77508658e-11, 1.27502746e-08, ...,\n",
       "         2.20002863e-10, 4.30169789e-11, 9.99992728e-01],\n",
       "        [2.16186714e-17, 1.26938392e-18, 2.62250367e-17, ...,\n",
       "         9.35762103e-22, 6.59043778e-16, 1.00000000e+00]], dtype=float32),\n",
       " (17572, 38))"
      ]
     },
     "execution_count": 37,
     "metadata": {},
     "output_type": "execute_result"
    }
   ],
   "source": [
    "y_pred = model.predict(test_set)\n",
    "y_pred, y_pred.shape"
   ]
  },
  {
   "cell_type": "code",
   "execution_count": 38,
   "id": "2606fb6d-fcab-4331-bf57-82c633206ed3",
   "metadata": {},
   "outputs": [],
   "source": [
    "predicted_categories = tf.argmax(y_pred,axis=1)"
   ]
  },
  {
   "cell_type": "code",
   "execution_count": 39,
   "id": "4bbf2d06-1e78-4862-817c-0e885b7926a9",
   "metadata": {},
   "outputs": [
    {
     "data": {
      "text/plain": [
       "<tf.Tensor: shape=(17572,), dtype=int64, numpy=array([ 0,  0,  0, ..., 37, 37, 37], dtype=int64)>"
      ]
     },
     "execution_count": 39,
     "metadata": {},
     "output_type": "execute_result"
    }
   ],
   "source": [
    "predicted_categories"
   ]
  },
  {
   "cell_type": "code",
   "execution_count": 40,
   "id": "a4b08cc0-1415-47d3-a83a-4cb062d2b26c",
   "metadata": {},
   "outputs": [
    {
     "data": {
      "text/plain": [
       "<tf.Tensor: shape=(17572, 38), dtype=float32, numpy=\n",
       "array([[1., 0., 0., ..., 0., 0., 0.],\n",
       "       [1., 0., 0., ..., 0., 0., 0.],\n",
       "       [1., 0., 0., ..., 0., 0., 0.],\n",
       "       ...,\n",
       "       [0., 0., 0., ..., 0., 0., 1.],\n",
       "       [0., 0., 0., ..., 0., 0., 1.],\n",
       "       [0., 0., 0., ..., 0., 0., 1.]], dtype=float32)>"
      ]
     },
     "execution_count": 40,
     "metadata": {},
     "output_type": "execute_result"
    }
   ],
   "source": [
    "true_categories = tf.concat([y for x,y in test_set], axis=0)\n",
    "true_categories"
   ]
  },
  {
   "cell_type": "code",
   "execution_count": 41,
   "id": "6c08e4b9-94ff-4090-a90f-b95bdf974ad4",
   "metadata": {},
   "outputs": [
    {
     "data": {
      "text/plain": [
       "<tf.Tensor: shape=(17572,), dtype=int64, numpy=array([ 0,  0,  0, ..., 37, 37, 37], dtype=int64)>"
      ]
     },
     "execution_count": 41,
     "metadata": {},
     "output_type": "execute_result"
    }
   ],
   "source": [
    "Y_true = tf.argmax(true_categories,axis=1)\n",
    "Y_true"
   ]
  },
  {
   "cell_type": "code",
   "execution_count": 45,
   "id": "399febbd-fbc1-4e68-b31d-095b6e70da11",
   "metadata": {},
   "outputs": [],
   "source": [
    "from sklearn.metrics import classification_report, confusion_matrix"
   ]
  },
  {
   "cell_type": "code",
   "execution_count": 46,
   "id": "c63b2735-11b8-4684-ba7d-1d6721f7c011",
   "metadata": {},
   "outputs": [
    {
     "name": "stdout",
     "output_type": "stream",
     "text": [
      "                                                    precision    recall  f1-score   support\n",
      "\n",
      "                                Apple___Apple_scab       0.94      0.94      0.94       504\n",
      "                                 Apple___Black_rot       0.98      0.97      0.97       497\n",
      "                          Apple___Cedar_apple_rust       0.99      0.94      0.97       440\n",
      "                                   Apple___healthy       0.97      0.86      0.91       502\n",
      "                               Blueberry___healthy       0.98      0.95      0.96       454\n",
      "          Cherry_(including_sour)___Powdery_mildew       0.98      0.96      0.97       421\n",
      "                 Cherry_(including_sour)___healthy       0.98      0.97      0.97       456\n",
      "Corn_(maize)___Cercospora_leaf_spot Gray_leaf_spot       0.91      0.94      0.93       410\n",
      "                       Corn_(maize)___Common_rust_       0.99      0.98      0.99       477\n",
      "               Corn_(maize)___Northern_Leaf_Blight       0.96      0.95      0.95       477\n",
      "                            Corn_(maize)___healthy       1.00      0.94      0.97       465\n",
      "                                 Grape___Black_rot       0.95      0.95      0.95       472\n",
      "                      Grape___Esca_(Black_Measles)       0.98      0.96      0.97       480\n",
      "        Grape___Leaf_blight_(Isariopsis_Leaf_Spot)       0.97      1.00      0.98       430\n",
      "                                   Grape___healthy       0.99      0.99      0.99       423\n",
      "          Orange___Haunglongbing_(Citrus_greening)       1.00      0.94      0.97       503\n",
      "                            Peach___Bacterial_spot       0.91      0.95      0.93       459\n",
      "                                   Peach___healthy       0.98      0.97      0.98       432\n",
      "                     Pepper,_bell___Bacterial_spot       0.95      0.90      0.92       478\n",
      "                            Pepper,_bell___healthy       0.87      0.95      0.91       497\n",
      "                             Potato___Early_blight       0.96      0.99      0.97       485\n",
      "                              Potato___Late_blight       0.92      0.96      0.94       485\n",
      "                                  Potato___healthy       0.84      0.99      0.91       456\n",
      "                               Raspberry___healthy       0.97      0.95      0.96       445\n",
      "                                 Soybean___healthy       0.96      0.96      0.96       505\n",
      "                           Squash___Powdery_mildew       0.92      0.99      0.95       434\n",
      "                          Strawberry___Leaf_scorch       0.96      0.98      0.97       444\n",
      "                              Strawberry___healthy       0.97      0.99      0.98       456\n",
      "                           Tomato___Bacterial_spot       0.98      0.91      0.94       425\n",
      "                             Tomato___Early_blight       0.92      0.81      0.86       480\n",
      "                              Tomato___Late_blight       0.93      0.81      0.87       463\n",
      "                                Tomato___Leaf_Mold       0.97      0.82      0.89       470\n",
      "                       Tomato___Septoria_leaf_spot       0.69      0.96      0.81       436\n",
      "     Tomato___Spider_mites Two-spotted_spider_mite       0.95      0.91      0.93       435\n",
      "                              Tomato___Target_Spot       0.88      0.88      0.88       457\n",
      "            Tomato___Tomato_Yellow_Leaf_Curl_Virus       0.99      0.99      0.99       490\n",
      "                      Tomato___Tomato_mosaic_virus       0.95      0.99      0.97       448\n",
      "                                  Tomato___healthy       0.98      0.99      0.99       481\n",
      "\n",
      "                                          accuracy                           0.94     17572\n",
      "                                         macro avg       0.95      0.94      0.94     17572\n",
      "                                      weighted avg       0.95      0.94      0.94     17572\n",
      "\n"
     ]
    }
   ],
   "source": [
    "print(classification_report(Y_true, predicted_categories, target_names=class_name))"
   ]
  },
  {
   "cell_type": "code",
   "execution_count": 48,
   "id": "0ce58ba3-c11e-4e34-a9a7-dea1a38762fe",
   "metadata": {},
   "outputs": [
    {
     "data": {
      "text/plain": [
       "array([[476,   5,   0, ...,   0,   0,   0],\n",
       "       [  1, 480,   0, ...,   0,   0,   0],\n",
       "       [  0,   0, 415, ...,   0,   0,   1],\n",
       "       ...,\n",
       "       [  0,   0,   0, ..., 484,   1,   0],\n",
       "       [  0,   0,   0, ...,   0, 445,   0],\n",
       "       [  0,   0,   0, ...,   0,   0, 478]], dtype=int64)"
      ]
     },
     "execution_count": 48,
     "metadata": {},
     "output_type": "execute_result"
    }
   ],
   "source": [
    "cm = confusion_matrix(Y_true, predicted_categories)\n",
    "cm"
   ]
  },
  {
   "cell_type": "code",
   "execution_count": null,
   "id": "8ff0077a-722a-43b3-a57a-08a2f748596d",
   "metadata": {},
   "outputs": [],
   "source": []
  },
  {
   "cell_type": "code",
   "execution_count": 55,
   "id": "35c483ab-5348-4255-bbf9-a0ed3182d98b",
   "metadata": {},
   "outputs": [
    {
     "data": {
      "text/plain": [
       "<function matplotlib.pyplot.show(close=None, block=None)>"
      ]
     },
     "execution_count": 55,
     "metadata": {},
     "output_type": "execute_result"
    },
    {
     "data": {
      "image/png": "[encoded data removed]",
      "text/plain": [
       "<Figure size 4000x4000 with 2 Axes>"
      ]
     },
     "metadata": {},
     "output_type": "display_data"
    }
   ],
   "source": [
    "plt.figure(figsize=(40,40))\n",
    "sns.heatmap(cm, annot=True, annot_kws={'size':10})\n",
    "plt.xlabel(\"Predicted Class\", fontsize=25)\n",
    "plt.ylabel(\"Actual Class\", fontsize=25)\n",
    "plt.title(\"Plant Disease Prediction Matrix\",fontsize=35)\n",
    "plt.show"
   ]
  },
  {
   "cell_type": "code",
   "execution_count": null,
   "id": "1797728d-d79e-48c2-a8ac-f8ae482cc4bf",
   "metadata": {},
   "outputs": [],
   "source": []
  }
 ],
 "metadata": {
  "kernelspec": {
   "display_name": "Python 3 (ipykernel)",
   "language": "python",
   "name": "python3"
  },
  "language_info": {
   "codemirror_mode": {
    "name": "ipython",
    "version": 3
   },
   "file_extension": ".py",
   "mimetype": "text/x-python",
   "name": "python",
   "nbconvert_exporter": "python",
   "pygments_lexer": "ipython3",
   "version": "3.12.2"
  }
 },
 "nbformat": 4,
 "nbformat_minor": 5
}
